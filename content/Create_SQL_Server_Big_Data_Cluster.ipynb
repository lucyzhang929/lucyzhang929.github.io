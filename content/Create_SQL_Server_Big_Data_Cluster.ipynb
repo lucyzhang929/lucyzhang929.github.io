{
    "metadata": {
        "kernelspec": {
            "name": "python3",
            "display_name": "Python 3"
        },
        "language_info": {
            "name": "python",
            "version": "3.6.6",
            "mimetype": "text/x-python",
            "codemirror_mode": {
                "name": "ipython",
                "version": 3
            },
            "pygments_lexer": "ipython3",
            "nbconvert_exporter": "python",
            "file_extension": ".py"
        }
    },
    "nbformat_minor": 2,
    "nbformat": 4,
    "cells": [
        {
            "cell_type": "markdown",
            "source": "### **Create SQL Server big data cluster**",
            "metadata": {}
        },
        {
            "cell_type": "code",
            "source": "print (f'Creating MSSQL_CLUSTER: cluster {mssql_cluster_name} using configuration file {mssqlctl_configuration_file}')\r\n\r\nos.environ[\"CONTROLLER_USERNAME\"] = bdc_controller_username\r\nos.environ[\"CONTROLLER_PASSWORD\"] = bdc_controller_password\r\nos.environ[\"MSSQL_SA_PASSWORD\"] = bdc_mssql_sa_password\r\nos.environ[\"KNOX_PASSWORD\"] = bdc_knox_password\r\nos.environ[\"DOCKER_REGISTRY\"] = docker_registry\r\nos.environ[\"DOCKER_REPOSITORY\"] = docker_repository\r\nos.environ[\"DOCKER_USERNAME\"] = docker_username\r\nos.environ[\"DOCKER_PASSWORD\"] = docker_password\r\nos.environ[\"DOCKER_EMAIL\"] = docker_email\r\nos.environ[\"DOCKER_IMAGE_TAG\"] = docker_image_tag\r\n\r\ncmd = f'mssqlctl bdc create -c {mssqlctl_configuration_file} --accept-eula yes'\r\nerror_check()",
            "metadata": {},
            "outputs": [],
            "execution_count": 0
        }
    ]
}