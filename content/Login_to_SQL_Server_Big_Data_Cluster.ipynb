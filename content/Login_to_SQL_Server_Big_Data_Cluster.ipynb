{
    "metadata": {
        "kernelspec": {
            "name": "python3",
            "display_name": "Python 3"
        },
        "language_info": {
            "name": "python",
            "version": "3.6.6",
            "mimetype": "text/x-python",
            "codemirror_mode": {
                "name": "ipython",
                "version": 3
            },
            "pygments_lexer": "ipython3",
            "nbconvert_exporter": "python",
            "file_extension": ".py"
        }
    },
    "nbformat_minor": 2,
    "nbformat": 4,
    "cells": [
        {
            "cell_type": "markdown",
            "source": "### **Login to SQL Server big data cluster**",
            "metadata": {}
        },
        {
            "cell_type": "code",
            "source": "print (f'Creating MSSQL_CLUSTER: bdc {mssql_cluster_name} using configuration file {mssqlctl_configuration_file}')\r\n\r\nos.environ[\"CONTROLLER_USERNAME\"] = bdc_controller_username\r\nos.environ[\"CONTROLLER_PASSWORD\"] = bdc_controller_password\r\n\r\ncmd = f'mssqlctl login --cluster-name {mssql_cluster_name}'\r\nerror_check()",
            "metadata": {},
            "outputs": [],
            "execution_count": 0
        },
        {
            "cell_type": "markdown",
            "source": "### Show big data cluster status",
            "metadata": {}
        },
        {
            "cell_type": "code",
            "source": "cmd = f'mssqlctl bdc status show'\r\nerror_check()",
            "metadata": {},
            "outputs": [],
            "execution_count": 0
        },
        {
            "cell_type": "markdown",
            "source": "### Show big data cluster status –debug",
            "metadata": {}
        },
        {
            "cell_type": "code",
            "source": "cmd = f'mssqlctl bdc status show --debug'\r\nerror_check()",
            "metadata": {},
            "outputs": [],
            "execution_count": 0
        }
    ]
}