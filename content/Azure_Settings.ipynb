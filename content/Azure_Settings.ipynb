{
    "metadata": {
        "kernelspec": {
            "name": "python3",
            "display_name": "Python 3"
        },
        "language_info": {
            "name": "python",
            "version": "3.6.6",
            "mimetype": "text/x-python",
            "codemirror_mode": {
                "name": "ipython",
                "version": 3
            },
            "pygments_lexer": "ipython3",
            "nbconvert_exporter": "python",
            "file_extension": ".py"
        }
    },
    "nbformat_minor": 2,
    "nbformat": 4,
    "cells": [
        {
            "cell_type": "code",
            "source": "# Azure Settings\r\nazure_subscription_id = \"\" #If this value is blank, this notebook uses the 'default' subscription ID for your Azure account.\r\nazure_vm_size = \"Standard_E4s_v3\" #Example: Standard_E4s_v3\r\nazure_vm_count = int(4) #Example: int(4)\r\nazure_region = \"eastus\" #Example: eastus\r\nmssql_cluster_name = \"\"\r\nazure_resource_group = 'aks-'+mssql_cluster_name",
            "metadata": {},
            "outputs": [],
            "execution_count": 0
        },
        {
            "cell_type": "markdown",
            "source": "### **Azure Settings**\r\n#### Subscription ID\r\n- If you don't want your default subscription, then please visit here to use the subscription you would like to use: https://ms.portal.azure.com/#blade/Microsoft_Azure_Billing/SubscriptionsBlade\r\n\r\n#### VM Sizes\r\n- If you don't want to use the default VM Size, then please visit here to use the VM Size you would like to use: https://docs.microsoft.com/en-us/azure/virtual-machines/windows/sizes\r\n \r\n#### Regions\r\n- If you don't want default VM Size, then please visit here to use the VM Size you would like to use: https://azure.microsoft.com/en-us/global-infrastructure/services/?products=kubernetes-service",
            "metadata": {}
        },
        {
            "cell_type": "code",
            "source": "print(\"Azure VM Size:\",azure_vm_size)\r\nprint(\"Azure VM Count:\",azure_vm_count)\r\nprint(\"Azure Region:\",azure_region)\r\nprint(\"Azure Resource Group:\",azure_resource_group)",
            "metadata": {},
            "outputs": [],
            "execution_count": 0
        }
    ]
}