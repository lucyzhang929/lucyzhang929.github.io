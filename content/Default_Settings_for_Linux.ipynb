{
    "metadata": {
        "kernelspec": {
            "name": "python3",
            "display_name": "Python 3"
        },
        "language_info": {
            "name": "python",
            "version": "3.6.6",
            "mimetype": "text/x-python",
            "codemirror_mode": {
                "name": "ipython",
                "version": 3
            },
            "pygments_lexer": "ipython3",
            "nbconvert_exporter": "python",
            "file_extension": ".py"
        }
    },
    "nbformat_minor": 2,
    "nbformat": 4,
    "cells": [
        {
            "cell_type": "markdown",
            "source": "### **Default Settings for Linux**\r\n\r\nUnless you are absolutely sure, please <span style=\"color:red\">do not </span>modify these settings.",
            "metadata": {}
        },
        {
            "cell_type": "code",
            "source": "skip='False'\r\n\r\nimport getpass, os, secrets, string, random, platform\r\n\r\nraise SystemExit(\"ERROR: You're on a platform we haven't worked out binary locations for. Please log an issue and we will address.\")\r\n\r\ndef error_check():\r\n    print(\"START \" + cmd)\r\n    !{cmd}\r\n    if _exit_code != 0:\r\n        raise SystemExit(f'Shell command:\\n\\n\\t{cmd}\\n\\nreturned non-zero exit code: ' + str(_exit_code) + '.\\n')\r\n    print(f'\\nSUCCESS: {cmd}')",
            "metadata": {},
            "outputs": [],
            "execution_count": 0
        },
        {
            "cell_type": "code",
            "source": "import os, getpass\r\nimport sys\r\n\r\n\r\n#MSSQL Settings\r\nmssql_cluster_version = os.getenv('AZDATA_MSSQL_CLUSTER_VERSION', 'latest')\r\nbdc_knox_password = bdc_mssql_sa_password\r\n\r\n# aks settings\r\naks_kubernetes_version = os.getenv('AZDATA_AKS_KUBERNETES_VERSION', '')\r\naks_enable_monitoring = os.getenv('AZDATA_AKS_ENABLE_MONITORING', 'False') == 'True'\r\naks_cluster_name = os.getenv('AZDATA_AKS_CLUSTER_NAME', mssql_cluster_name)\r\n\r\n# docker settings\r\ndocker_registry = os.getenv('AZDATA_DOCKER_REGISTRY', 'hlsaris.azurecr.io')\r\ndocker_repository = os.getenv('AZDATA_DOCKER_REPOSITORY', 'aris-p-stable-sqlmain-gb')\r\ndocker_image_tag = os.getenv('AZDATA_DOCKER_IMAGE_TAG', mssql_cluster_version)\r\ndocker_username = os.getenv('AZDATA_DOCKER_USERNAME', '5adc375f-8bcd-486c-ba9b-e821a506977b')\r\ndocker_password = os.getenv('AZDATA_DOCKER_PASSWORD', '1cc2d580-7178-4c58-94a1-242a0a13a9b0')\r\ndocker_email = os.getenv('AZDATA_DOCKER_EMAIL', 'aristesting@microsoft.com')\r\n\r\n# azcli settings\r\nazcli_use_force_install_option = os.getenv('AZDATA_AZCLI_USE_FORCE_INSTALL_OPTION', 'False') == 'True'\r\nazcli_use_user_install_option = os.getenv('AZDATA_AZCLI_USE_USER_INSTALL_OPTION', 'True') == 'True'\r\n\r\n# mssqlctl settings\r\nmssqlctl_url = os.getenv('AZDATA_MSSQLCTL_URL', 'http://helsinki/browse/packages/python/aris-p-release-candidate-gb/mssqlctl/requirements.txt'.format(mssql_cluster_version))\r\nmssqlctl_configuration_profile = os.getenv('AZDATA_MSSQLCTL_CONFIGURATION_PROFILE', 'aks-dev-test')\r\nmssqlctl_configuration_file = os.getenv('AZDATA_MSSQLCTL_CONFIGURATION_FILE', 'mssql-bdc-configuration')\r\nmssqlctl_use_force_install_option = os.getenv('AZDATA_MSSQLCTL_USE_FORCE_INSTALL_OPTION', 'False') == 'True'\r\nmssqlctl_use_user_install_option = os.getenv('AZDATA_MSSQLCTL_USE_USER_INSTALL_OPTION', 'True') == 'True'\r\nmssqlctl_binary_location = os.getenv('AZDATA_MSSQLCTL_BINARY_LOCATION', os.path.join(get_binary_location(), 'mssqlctl'))\r\n\r\n# kubectl settings\r\nkubectl_windows_url = os.getenv('AZDATA_KUBECTL_WINDOWS_URL', 'https://storage.googleapis.com/kubernetes-release/release/v1.13.0/bin/windows/amd64/kubectl.exe')\r\nkubectl_binary_location = os.getenv('AZDATA_KUBECTL_BINARY_LOCATION', os.path.join(get_binary_location(), 'kubectl'))\r\nkubectl_use_user_install_option = os.getenv('AZDATA_KUBECTL_USE_USER_INSTALL_OPTION', 'True') == 'True'\r\n\r\nif skip=='True':\r\n    skip_azure_login = os.getenv('AZDATA_SKIP_AZURE_LOGIN', 'True') == 'True'\r\n    skip_group_delete = os.getenv('AZDATA_SKIP_GROUP_DELETE', 'True') == 'True'\r\n    skip_group_create = os.getenv('AZDATA_SKIP_GROUP_CREATE', 'True') == 'True'\r\n    skip_aks_create = os.getenv('AZDATA_SKIP_AKS_CREATE', 'True') == 'True'\r\n    skip_mssqlctl_uninstall = os.getenv('AZDATA_SKIP_MSSQLCTL_UNINSTALL', 'True') == 'True'\r\n    skip_mssqlctl_install = os.getenv('AZDATA_SKIP_MSSQLCTL_INSTALL', 'True') == 'True'\r\n    skip_azcli_uninstall = os.getenv('AZDATA_SKIP_AZCLI_UNINSTALL', 'True') == 'True'\r\n    skip_azcli_install = os.getenv('AZDATA_SKIP_AZCLI_INSTALL', 'True') == 'True'\r\n    skip_kubectl_install = os.getenv('AZDATA_SKIP_KUBECTL_INSTALL', 'True') == 'True'\r\nelse:\r\n    skip_azure_login = os.getenv('AZDATA_SKIP_AZURE_LOGIN', 'False') == 'True'\r\n    skip_group_delete = os.getenv('AZDATA_SKIP_GROUP_DELETE', 'False') == 'True'\r\n    skip_group_create = os.getenv('AZDATA_SKIP_GROUP_CREATE', 'False') == 'True'\r\n    skip_aks_create = os.getenv('AZDATA_SKIP_AKS_CREATE', 'False') == 'True'\r\n    skip_mssqlctl_uninstall = os.getenv('AZDATA_SKIP_MSSQLCTL_UNINSTALL', 'False') == 'True'\r\n    skip_mssqlctl_install = os.getenv('AZDATA_SKIP_MSSQLCTL_INSTALL', 'False') == 'True'\r\n    skip_azcli_uninstall = os.getenv('AZDATA_SKIP_AZCLI_UNINSTALL', 'False') == 'True'\r\n    skip_azcli_install = os.getenv('AZDATA_SKIP_AZCLI_INSTALL', 'False') == 'True'\r\n    skip_kubectl_install = os.getenv('AZDATA_SKIP_KUBECTL_INSTALL', 'False') == 'True'\r\n\r\n# include settings\r\ninclude_bdc_delete = os.getenv('AZDATA_INCLUDE_BDC_DELETE', 'True') == 'True'\r\n\r\nprint('')\r\nprint('PARAMETERS:')\r\nprint('')\r\nprint(f'mssql_cluster_version = {mssql_cluster_version}')\r\nprint(f'mssql_cluster_name = {mssql_cluster_name}')\r\nprint(f'azure_subscription_id = {azure_subscription_id}')\r\nprint(f'azure_vm_size = {azure_vm_size}')\r\nprint(f'azure_vm_count = {str(azure_vm_count)}')\r\nprint(f'azure_region = {azure_region}')\r\nprint(f'azure_resource_group = {azure_resource_group}')\r\nprint(f'aks_kubernetes_version = {aks_kubernetes_version}')\r\nprint(f'aks_enable_monitoring = {str(aks_enable_monitoring)}')\r\nprint(f'aks_cluster_name = {aks_cluster_name}')\r\nprint(f'docker_registry = {docker_registry}')\r\nprint(f'docker_repository = {docker_repository}')\r\nprint(f'docker_image_tag = {docker_image_tag}')\r\nprint(f'docker_username = {docker_username}')\r\nprint(f'docker_password = {docker_password}')\r\nprint(f'docker_email = {docker_email}')\r\nprint(f'azcli_use_force_install_option = {str(azcli_use_force_install_option)}')\r\nprint(f'azcli_use_user_install_option = {str(azcli_use_user_install_option)}')\r\nprint(f'mssqlctl_url = {mssqlctl_url}')\r\nprint(f'mssqlctl_configuration_profile = {mssqlctl_configuration_profile}')\r\nprint(f'mssqlctl_configuration_file = {mssqlctl_configuration_file}')\r\nprint(f'mssqlctl_use_force_install_option = {str(mssqlctl_use_force_install_option)}')\r\nprint(f'mssqlctl_use_user_install_option = {str(mssqlctl_use_user_install_option)}')\r\nprint(f'mssqlctl_binary_location = {mssqlctl_binary_location}')\r\nprint(f'kubectl_windows_url = {kubectl_windows_url}')\r\nprint(f'kubectl_binary_location = {kubectl_binary_location}')\r\nprint(f'kubectl_use_user_install_option = {str(kubectl_use_user_install_option)}')\r\nprint(f'bdc_controller_username = {bdc_controller_username}')\r\nprint(f'skip_azure_login = {str(skip_azure_login)}')\r\nprint(f'skip_group_delete = {str(skip_group_delete)}')\r\nprint(f'skip_group_create = {str(skip_group_create)}')\r\nprint(f'skip_aks_create = {str(skip_aks_create)}')\r\nprint(f'skip_mssqlctl_uninstall = {str(skip_mssqlctl_uninstall)}')\r\nprint(f'skip_mssqlctl_install = {str(skip_mssqlctl_install)}')\r\nprint(f'skip_azcli_uninstall = {str(skip_azcli_uninstall)}')\r\nprint(f'skip_azcli_install = {str(skip_azcli_install)}')\r\nprint(f'skip_kubectl_install = {str(skip_kubectl_install)}')\r\nprint(f'include_bdc_delete = {str(include_bdc_delete)}')\r\nprint(f'')",
            "metadata": {},
            "outputs": [],
            "execution_count": 0
        }
    ]
}