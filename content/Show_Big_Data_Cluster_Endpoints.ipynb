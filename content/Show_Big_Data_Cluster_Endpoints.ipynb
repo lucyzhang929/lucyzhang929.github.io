{
    "metadata": {
        "kernelspec": {
            "name": "python3",
            "display_name": "Python 3"
        },
        "language_info": {
            "name": "python",
            "version": "3.6.6",
            "mimetype": "text/x-python",
            "codemirror_mode": {
                "name": "ipython",
                "version": 3
            },
            "pygments_lexer": "ipython3",
            "nbconvert_exporter": "python",
            "file_extension": ".py"
        }
    },
    "nbformat_minor": 2,
    "nbformat": 4,
    "cells": [
        {
            "cell_type": "markdown",
            "source": "### **Show big data cluster endpoints**",
            "metadata": {}
        },
        {
            "cell_type": "code",
            "source": "cmd = f'mssqlctl bdc endpoint list'\r\nerror_check()",
            "metadata": {},
            "outputs": [],
            "execution_count": 0
        }
    ]
}