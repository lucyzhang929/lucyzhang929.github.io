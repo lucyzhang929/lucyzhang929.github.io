{
    "metadata": {
        "kernelspec": {
            "name": "python3",
            "display_name": "Python 3"
        },
        "language_info": {
            "name": "python",
            "version": "3.6.6",
            "mimetype": "text/x-python",
            "codemirror_mode": {
                "name": "ipython",
                "version": 3
            },
            "pygments_lexer": "ipython3",
            "nbconvert_exporter": "python",
            "file_extension": ".py"
        }
    },
    "nbformat_minor": 2,
    "nbformat": 4,
    "cells": [
        {
            "cell_type": "markdown",
            "source": "### Install Kubernetes CLI for Linux",
            "metadata": {}
        },
        {
            "cell_type": "code",
            "source": "import platform\r\nimport requests\r\nimport sys\r\n\r\nif not skip_kubectl_install:\r\n    cmd = f'sudo apt-get update'\r\n    print(\"START \" + cmd)\r\n    !{cmd}\r\n    if _exit_code != 0:\r\n        raise SystemExit(f'Shell command:\\n\\n\\t{cmd}\\n\\nreturned non-zero exit code: ' + str(_exit_code) + '.\\n')\r\n    print(f'\\nSUCCESS: {cmd}')\r\n    cmd = f'sudo apt-get install -y kubectl'\r\n    print(\"START \" + cmd)\r\n    !{cmd}\r\n    if _exit_code != 0:\r\n        raise SystemExit(f'Shell command:\\n\\n\\t{cmd}\\n\\nreturned non-zero exit code: ' + str(_exit_code) + '.\\n')\r\n    print(f'\\nSUCCESS: {cmd}')\r\n\r\nelse:\r\n    print('SKIPPED: Uninstall KUBECTL')",
            "metadata": {},
            "outputs": [],
            "execution_count": 0
        }
    ]
}