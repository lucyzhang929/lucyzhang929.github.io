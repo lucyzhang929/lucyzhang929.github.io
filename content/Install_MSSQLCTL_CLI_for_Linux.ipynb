{
    "metadata": {
        "kernelspec": {
            "name": "python3",
            "display_name": "Python 3"
        },
        "language_info": {
            "name": "python",
            "version": "3.6.6",
            "mimetype": "text/x-python",
            "codemirror_mode": {
                "name": "ipython",
                "version": 3
            },
            "pygments_lexer": "ipython3",
            "nbconvert_exporter": "python",
            "file_extension": ".py"
        }
    },
    "nbformat_minor": 2,
    "nbformat": 4,
    "cells": [
        {
            "cell_type": "markdown",
            "source": "### Install MSSQLCTL CLI for Linux\r\n\r\nInstall mssqlctl to manage SQL Server big data clusters.\r\n\r\n    For details see:\r\n\r\n        https://docs.microsoft.com/en-us/sql/big-data-cluster/deploy-install-mssqlctl",
            "metadata": {}
        },
        {
            "cell_type": "code",
            "source": "print(f'START: !{sys.executable} -m pip install -r {mssqlctl_url} --force-reinstall\\n') \r\n\r\n!{sys.executable} -m pip install -r {mssqlctl_url} --force-reinstall --trusted-host helsinki\r\n    if _exit_code != 0:\r\n        raise SystemExit('Shell command:\\n\\n\\t!{sys.executable} -m pip install -r {mssqlctl_url} --force-reinstall\\n\\nreturned non-zero exit code: ' + str(_exit_code) + '.\\n')\r\n\r\nprint(f'\\nSUCCESS: !{sys.executable} -m pip install -r {mssqlctl_url} --force-reinstall')\r\n\r\nprint ('======== Begin MSSQLCTL version  ========')\r\nprint(f'START: !mssqlctl --version\\n')\r\n\r\n!mssqlctl --version\r\nif _exit_code != 0:\r\n   raise SystemExit('Shell command:\\n\\n\\t!mssqlctl --version\\n\\nreturned non-zero exit code: ' + str(_exit_code) + '.\\n')\r\n\r\nprint(f'\\nSUCCESS: !mssqlctl --version')\r\nprint ('======== End MSSQLCTL version  ========')",
            "metadata": {},
            "outputs": [],
            "execution_count": 0
        }
    ]
}