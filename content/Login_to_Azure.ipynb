{
    "metadata": {
        "kernelspec": {
            "name": "python3",
            "display_name": "Python 3"
        },
        "language_info": {
            "name": "python",
            "version": "3.6.6",
            "mimetype": "text/x-python",
            "codemirror_mode": {
                "name": "ipython",
                "version": 3
            },
            "pygments_lexer": "ipython3",
            "nbconvert_exporter": "python",
            "file_extension": ".py"
        }
    },
    "nbformat_minor": 2,
    "nbformat": 4,
    "cells": [
        {
            "cell_type": "markdown",
            "source": "### **Login to Azure**\r\n\r\nThis will load a browser window to enable credentials to be entered. If this cells is hanging forever, it might be because your Web browser windows is waiting for you to enter your Azure credentials!\r\n",
            "metadata": {}
        },
        {
            "cell_type": "code",
            "source": "if not skip_azure_login:\r\n    cmd = f'az login'\r\n    error_check()\r\nelse:\r\n    print('SKIPPED: az login')",
            "metadata": {},
            "outputs": [],
            "execution_count": 0
        },
        {
            "cell_type": "markdown",
            "source": "\r\n### Set Azure Subscription to deploy AKS into.\r\n\r\nIf you want to deploy to a subscription that is not your default\r\nsubscription, then we set it here.",
            "metadata": {}
        },
        {
            "cell_type": "code",
            "source": "if azure_subscription_id != \"\":\r\n    cmd = f'az account set --subscription {azure_subscription_id}'\r\n    error_check()\r\nelse:\r\n    print('Using default Azure subscription', {azure_subscription_id})",
            "metadata": {},
            "outputs": [],
            "execution_count": 0
        },
        {
            "cell_type": "markdown",
            "source": "### Showing Azure account info (verifying Azure connectivity)",
            "metadata": {}
        },
        {
            "cell_type": "code",
            "source": "cmd = f'az account show'\r\nerror_check()",
            "metadata": {},
            "outputs": [],
            "execution_count": 0
        }
    ]
}