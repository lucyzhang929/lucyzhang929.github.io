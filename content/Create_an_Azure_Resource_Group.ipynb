{
    "metadata": {
        "kernelspec": {
            "name": "python3",
            "display_name": "Python 3"
        },
        "language_info": {
            "name": "python",
            "version": "3.6.6",
            "mimetype": "text/x-python",
            "codemirror_mode": {
                "name": "ipython",
                "version": 3
            },
            "pygments_lexer": "ipython3",
            "nbconvert_exporter": "python",
            "file_extension": ".py"
        }
    },
    "nbformat_minor": 2,
    "nbformat": 4,
    "cells": [
        {
            "cell_type": "markdown",
            "source": "### **Create an Azure Resource Group**\r\n\r\nWe will create an Azure resource group to hold all of the subsequent\r\nthings we are going to create (such as a Kubernetes cluster and several\r\nPersistent Volumes)",
            "metadata": {}
        },
        {
            "cell_type": "code",
            "source": "if not skip_group_create:\r\n    cmd = f'az group create --name {azure_resource_group} --location {azure_region}'\r\n    error_check()\r\nelse:\r\n    print('SKIPPED: az group create')",
            "metadata": {},
            "outputs": [],
            "execution_count": 0
        }
    ]
}