{
    "metadata": {
        "kernelspec": {
            "name": "python3",
            "display_name": "Python 3"
        },
        "language_info": {
            "name": "python",
            "version": "3.6.6",
            "mimetype": "text/x-python",
            "codemirror_mode": {
                "name": "ipython",
                "version": 3
            },
            "pygments_lexer": "ipython3",
            "nbconvert_exporter": "python",
            "file_extension": ".py"
        }
    },
    "nbformat_minor": 2,
    "nbformat": 4,
    "cells": [
        {
            "cell_type": "markdown",
            "source": "### Install Azure CLI",
            "metadata": {}
        },
        {
            "cell_type": "markdown",
            "source": "",
            "metadata": {}
        },
        {
            "cell_type": "code",
            "source": "import sys\r\n\r\nif not skip_azcli_install:\r\n    force_install_option='--force-install' if azcli_use_force_install_option else ''\r\n    user_install_option='--user' if azcli_use_user_install_option else ''\r\n\r\n    cmd = f'{sys.executable} -m pip install azure-cli {force_install_option} {user_install_option}'\r\n    error_check()\r\nelse:\r\n  print('SKIPPED: Install AZ CLI')",
            "metadata": {},
            "outputs": [],
            "execution_count": 0
        }
    ]
}