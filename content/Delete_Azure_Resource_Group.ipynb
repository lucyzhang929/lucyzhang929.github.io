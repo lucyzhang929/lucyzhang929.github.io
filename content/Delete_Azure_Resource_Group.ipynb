{
    "metadata": {
        "kernelspec": {
            "name": "python3",
            "display_name": "Python 3"
        },
        "language_info": {
            "name": "python",
            "version": "3.6.6",
            "mimetype": "text/x-python",
            "codemirror_mode": {
                "name": "ipython",
                "version": 3
            },
            "pygments_lexer": "ipython3",
            "nbconvert_exporter": "python",
            "file_extension": ".py"
        }
    },
    "nbformat_minor": 2,
    "nbformat": 4,
    "cells": [
        {
            "cell_type": "markdown",
            "source": "### **Delete Azure Resource Group** (from previous run of this Notebook)\r\n\r\nIf running this notebook more than once with the same parameters, you’ll\r\nneed to delete the previously created resource group.",
            "metadata": {}
        },
        {
            "cell_type": "code",
            "source": "if not skip_group_delete:\r\n    cmd = f'az group delete --name {azure_resource_group} -y'\r\n    error_check()\r\nelse:\r\n    print('SKIPPED: az group delete')",
            "metadata": {},
            "outputs": [],
            "execution_count": 0
        }
    ]
}