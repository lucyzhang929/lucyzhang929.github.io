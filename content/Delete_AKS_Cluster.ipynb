{
    "metadata": {
        "kernelspec": {
            "name": "python3",
            "display_name": "Python 3"
        },
        "language_info": {
            "name": "python",
            "version": "3.6.6",
            "mimetype": "text/x-python",
            "codemirror_mode": {
                "name": "ipython",
                "version": 3
            },
            "pygments_lexer": "ipython3",
            "nbconvert_exporter": "python",
            "file_extension": ".py"
        }
    },
    "nbformat_minor": 2,
    "nbformat": 4,
    "cells": [
        {
            "cell_type": "markdown",
            "source": "### **Delete AKS Cluster** (from previous run of this Notebook)\r\nIf running this notebook more than once with the same parameters, you’ll\r\nneed to delete the previously created AKS Cluster.",
            "metadata": {}
        },
        {
            "cell_type": "code",
            "source": "cmd = f'az aks delete --name {aks_cluster_name} --resource-group {azure_resource_group} -y'\r\nerror_check()",
            "metadata": {},
            "outputs": [],
            "execution_count": 0
        }
    ]
}