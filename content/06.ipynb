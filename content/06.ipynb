{
    "metadata": {
        "kernelspec": {
            "name": "SQL",
            "display_name": "SQL",
            "language": "sql"
        },
        "language_info": {
            "name": "sql",
            "version": ""
        }
    },
    "nbformat_minor": 2,
    "nbformat": 4,
    "cells": [
        {
            "cell_type": "markdown",
            "source": "<img src=\"https://github.com/Microsoft/sqlworkshops/blob/master/graphics/solutions-microsoft-logo-small.png?raw=true\" alt=\"Microsoft\">\r\n<br>\r\n\r\n# Workshop: Microsoft SQL Server Machine Learning Services\r\n\r\n#### <i>A Microsoft Course from the SQL Server team</i>\r\n\r\n## 06 - Phase 4: Deployment \r\n\r\n<p style=\"border-bottom: 1px solid lightgrey;\"></p>",
            "metadata": {}
        },
        {
            "cell_type": "markdown",
            "source": "<p><img style=\"float: left; margin: 0px 15px 15px 0px;\" src=\"https://github.com/Microsoft/sqlworkshops/blob/master/graphics/textbubble.png?raw=true\"><b>Phase 4 - Deployment</b></p>\r\n\r\n<br>\r\n<br>\r\n<br>\r\n\r\nYou're learning to use the Team Data Science Process to create a complete solution, using SQL Server as the platform. The phases in the Team Data Science process are:\r\n\r\n<dl>\r\n  <dt>1 - Business Understanding</dt>\r\n  <dt>2 - Data Acquisition and Understanding</dt>\r\n  <dt>3 - Modeling</i></dt>\r\n  <dt>4 - Deployment <i>(This module)</dt>\r\n  <dt>5 - Customer Acceptance and Model Retraining</dt>\r\n<dl>\r\n\r\n<p style=\"border-bottom: 1px solid lightgrey;\"></p>\r\n\r\n<img style=\"float: left; margin: 0px 15px 15px 0px;\" src=\"https://github.com/Microsoft/sqlworkshops/blob/master/graphics/pin.jpg?raw=true\"><b>4.0 - Deployment Overview</b>\r\n<br>\r\n\r\nIn this phase you'll take the Trained Model from the Azure environment and then use the Model in SQL Server using ML Services over your data.\r\n\r\n### Goal for Deployment\r\n- Deploy models with a data pipeline to a production or production-like environment for final user acceptance\r\n\r\n### How to do it\r\n- Deploy the model and pipeline to a production or production-like environment for application consumption\r\n",
            "metadata": {}
        },
        {
            "cell_type": "markdown",
            "source": "<p><img style=\"float: left; margin: 0px 15px 15px 0px;\" src=\"https://github.com/Microsoft/sqlworkshops/blob/master/graphics/pin.jpg?raw=true\"><b>4.1 Load or Create the Model in SQL Server</b></p>\r\n\r\nIn this section, you will create the Model in SQL Server and deploy your predictive model with the help of SQL Server Machine Learning Services.\r\n\r\nTo \"deploy\" a model, you have two options: You can create and store a binary representation of the model in a hosting environment, or you can re-run the code that calls an algorithm and implement a prediction function that uses the model to predict. That function can be called from applications, on a schedule, or an API service. \r\n\r\nTo deploy the model so that you can use it in SQL Server, you will need to either copy the model to a location and SQL Server can read, load it into a binary column of a table in the SQL Server database, or train and call the model from T-SQL code using the `sp_execute_external_script` stored procedure. You'll follow that latter process in a moment.\r\n\r\nIf you are transferring a trained binary model in, you'll use code to create the  binary file *(called a pickle in Python, or a stream in R)* that contains the Model. There are other serialization methods available, including ONNX that you can use to store your model. If you use Azure Machine Learning Services, the Model is stored in the Cloud.\r\n\r\n**NOTE: The Model essentially contains the code from the final training. That means that the receiving system (SQL Server in this course) must be able to run that code, have the same libraries and so on.**\r\n\r\nIf you create the training for the model on a local system, it's important to use as similar data (as much as possible) for the model predictions. The data you trained with needs to represent as closely as possible the type of data you're scoring, or you could get incorrect results. \r\n\r\nIn this course, rather than store the model as a binary object, you'll just re-create the R code from the Data Scientist's Notebook, but adapt it for a stored procedure call using the Extensibility Framework you learned about earlier.\r\n",
            "metadata": {}
        },
        {
            "cell_type": "markdown",
            "source": "<p><img style=\"float: left; margin: 0px 15px 15px 0px;\" src=\"https://github.com/Microsoft/sqlworkshops/blob/master/graphics/checkbox.png?raw=true\"><b>Activity: Create a Stored Procedure to load the data and call the Model training</b></p>\r\n\r\nYou're going to combine the data selection and the call to the Model in one step. This is common in K-Means or other unsupervised learning, but for labeled data its more common to train the Model, store it as a binary object, and then load that for the calls, making two steps instead of the combined single step you see here.\r\n\r\n- Run the following code on your Instance:",
            "metadata": {}
        },
        {
            "cell_type": "code",
            "source": "USE [Analysis];\r\nGO\r\n\r\n\r\nDROP PROC IF EXISTS generate_customer_return_clusters;\r\nGO\r\n\r\nCREATE procedure [dbo].[generate_customer_return_clusters]\r\nAS\r\n/*\r\n  This procedure uses R to classify customers into different groups based on their\r\n  purchase & return history.\r\n*/\r\nBEGIN\r\n\tDECLARE @duration FLOAT\r\n\t, @instance_name NVARCHAR(100) = @@SERVERNAME\r\n\t, @database_name NVARCHAR(128) = db_name()\r\n-- Input query to generate the purchase history & return metrics\r\n\t, @input_query NVARCHAR(MAX) = N'\r\nSELECT\r\n  ss_customer_sk AS customer,\r\n  round(CASE WHEN ((orders_count = 0) OR (returns_count IS NULL) OR (orders_count IS NULL) OR ((returns_count / orders_count) IS NULL) ) THEN 0.0 ELSE (cast(returns_count as nchar(10)) / orders_count) END, 7) AS orderRatio,\r\n  round(CASE WHEN ((orders_items = 0) OR(returns_items IS NULL) OR (orders_items IS NULL) OR ((returns_items / orders_items) IS NULL) ) THEN 0.0 ELSE (cast(returns_items as nchar(10)) / orders_items) END, 7) AS itemsRatio,\r\n  round(CASE WHEN ((orders_money = 0) OR (returns_money IS NULL) OR (orders_money IS NULL) OR ((returns_money / orders_money) IS NULL) ) THEN 0.0 ELSE (cast(returns_money as nchar(10)) / orders_money) END, 7) AS monetaryRatio,\r\n  round(CASE WHEN ( returns_count IS NULL                                                                        ) THEN 0.0 ELSE  returns_count                 END, 0) AS frequency\r\n\r\nFROM\r\n  (\r\n    SELECT\r\n      ss_customer_sk,\r\n      -- return order ratio\r\n      COUNT(distinct(ss_ticket_number)) AS orders_count,\r\n      -- return ss_item_sk ratio\r\n      COUNT(ss_item_sk) AS orders_items,\r\n      -- return monetary amount ratio\r\n      SUM( ss_net_paid ) AS orders_money\r\n    FROM store_sales s\r\n    GROUP BY ss_customer_sk\r\n  ) orders\r\n  LEFT OUTER JOIN\r\n  (\r\n    SELECT\r\n      sr_customer_sk,\r\n      -- return order ratio\r\n      count(distinct(sr_ticket_number)) as returns_count,\r\n      -- return ss_item_sk ratio\r\n      COUNT(sr_item_sk) as returns_items,\r\n      -- return monetary amount ratio\r\n      SUM( sr_return_amt ) AS returns_money\r\n    FROM store_returns\r\n    GROUP BY sr_customer_sk\r\n  ) returned ON ss_customer_sk=sr_customer_sk\r\n '\r\nEXEC sp_execute_external_script\r\n\t  @language = N'R'\r\n\t, @script = N'\r\n# Define the connection string\r\nconnStr <- paste(\"Driver=SQL Server;Server=\", instance_name, \" ;Database=\", database_name, \" ;Trusted_Connection=true;\", sep=\"\" );\r\n\r\n# Input customer data that needs to be classified. This is the result we get from our query\r\ncustomer_returns <- RxSqlServerData(sqlQuery = input_query,\r\n\t\t\t\t\t\t\t\t\tcolClasses = c(customer = \"numeric\", orderRatio = \"numeric\", itemsRatio = \"numeric\", monetaryRatio = \"numeric\", frequency = \"numeric\"),\r\n\t\t\t\t\t\t\t\t\tconnectionString = connStr);\r\n\r\n# Output table to hold the customer cluster mappings\r\nreturn_cluster = RxSqlServerData(table = \"customer_return_clusters\", connectionString = connStr);\r\n\r\n# set.seed for random number generator for predicatability\r\nset.seed(10);\r\n\r\n# generate clusters using rxKmeans and output clusters to a table called \"customer_return_clusters\".\r\nclust <- rxKmeans( ~ orderRatio + itemsRatio + monetaryRatio + frequency, customer_returns, numClusters = 4\r\n                    , outFile = return_cluster, outColName = \"cluster\", writeModelVars = TRUE , extraVarsToWrite = c(\"customer\"), overwrite = TRUE);\r\n'\r\n\t, @input_data_1 = N''\r\n\t, @params = N'@instance_name nvarchar(100), @database_name nvarchar(128), @input_query nvarchar(max), @duration float OUTPUT'\r\n\t, @instance_name = @instance_name\r\n\t, @database_name = @database_name\r\n\t, @input_query = @input_query\r\n\t, @duration = @duration OUTPUT;\r\nEND;\r\n\r\nGO",
            "metadata": {},
            "outputs": [],
            "execution_count": 0
        },
        {
            "cell_type": "markdown",
            "source": "<p><img style=\"float: left; margin: 0px 15px 15px 0px;\" src=\"https://github.com/Microsoft/sqlworkshops/blob/master/graphics/pin.jpg?raw=true\"><b>4.2 Call the model using production data</b></p>\r\n\r\nEverything is now in place for you to call the Stored Procedure that will wait for data as input and then run the model, predicting the outcome. You'll send in the Features (in this case, using a `SELECT` Transact-SQL statement as the input variable).\r\n",
            "metadata": {}
        },
        {
            "cell_type": "markdown",
            "source": "<p><img style=\"float: left; margin: 0px 15px 15px 0px;\" src=\"https://github.com/Microsoft/sqlworkshops/blob/master/graphics/checkbox.png?raw=true\"><b>Activity: Call and view the Predictions</b></p>\r\n\r\n- Run the code below. The first step calls the Clustering algorithm from the last step, and the second part shows the results:",
            "metadata": {}
        },
        {
            "cell_type": "code",
            "source": "USE [Analysis];\r\nGO\r\n\r\n--Empty table of the results before running the stored procedure\r\nTRUNCATE TABLE customer_return_clusters;\r\n--Execute the clustering. This will load the table customer_return_clusters with cluster mappings\r\nEXEC [dbo].[generate_customer_return_clusters];\r\n\r\n--Now select data from table customer_return_clusters to verify that the clustering data was loaded\r\nSELECT * FROM customer_return_clusters;",
            "metadata": {},
            "outputs": [],
            "execution_count": 0
        },
        {
            "cell_type": "markdown",
            "source": "<p><img style=\"float: left; margin: 0px 15px 15px 0px;\" src=\"https://github.com/Microsoft/sqlworkshops/blob/master/graphics/thinking.jpg?raw=true\"><b>For Further Study</b></p>\r\n\r\n<br>\r\n<br>\r\n\r\n - Another example of using a Stored Procedure to predict data using R and SQL Server: https://docs.microsoft.com/en-us/sql/advanced-analytics/tutorials/rtsql-create-a-predictive-model-r?view=sql-server-2017\r\n",
            "metadata": {}
        },
        {
            "cell_type": "markdown",
            "source": "<p><img style=\"float: left; margin: 0px 15px 15px 0px;\" src=\"https://github.com/Microsoft/sqlworkshops/blob/master/graphics/education1.png?raw=true\"><b>Next</b>: Phase 5 - Customer Acceptance and Model Retraining</p>\r\n\r\nNext, you'll continue working through the Team Data Science Process in the final phase - *07 - Phase 5 - Customer Acceptance and Model Retraining*. Open that Notebook to continue.",
            "metadata": {}
        }
    ]
}