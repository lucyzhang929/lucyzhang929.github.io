{
    "metadata": {
        "kernelspec": {
            "name": "python3",
            "display_name": "Python 3"
        },
        "language_info": {
            "name": "python",
            "version": "3.6.6",
            "mimetype": "text/x-python",
            "codemirror_mode": {
                "name": "ipython",
                "version": 3
            },
            "pygments_lexer": "ipython3",
            "nbconvert_exporter": "python",
            "file_extension": ".py"
        }
    },
    "nbformat_minor": 2,
    "nbformat": 4,
    "cells": [
        {
            "cell_type": "code",
            "source": "mssql_cluster_name == \"\"\r\nbdc_controller_username == \"\"\r\nbdc_controller_password == \"\"\r\nbdc_mssql_sa_password == \"\"",
            "metadata": {},
            "outputs": [],
            "execution_count": 0
        },
        {
            "cell_type": "markdown",
            "source": "![11811317_10153406249401648_2787740058697948111_n](https://raw.githubusercontent.com/Microsoft/sqlworkshops/master/graphics/solutions-microsoft-logo-small.png)\r\n\r\n## Create Azure Kubernetes Service cluster and a deploy SQL Server 2019 big data cluster\r\n\r\nThis notebook walks an user through the process of deploying a SQL Server 2019 Big Data Cluster on Azure Kubernetes Service.\r\n\r\n### <span style=\"color:red\">Important Instructions</span>\r\n* If you plan to **Run Cells** for this Notebook then please note that the first cell *Big Data Cluster Settings* prompts you to enter some details.\r\n* We have included some default *Azure Settings* in the second cell of this Notebook. If you plan to override please define the appropriate values. You might want to reference Azure Kubernetes Service region and VM size requirements.\r\n* In this Notebook in the *Default Settings*, we will uninstall and reinstall all the dependencies. If you want to skip the dependencies to be reinstalled please set the **skip** variable to be \"True\".\r\n* If you are experiencing an issue in the *Create AKS Cluster* step you might need to specify servical principal for the AKS Cluster: https://docs.microsoft.com/en-us/azure/aks/kubernetes-service-principal#specify-a-service-principal-for-an-aks-cluster. ",
            "metadata": {}
        },
        {
            "cell_type": "markdown",
            "source": "### **Dependencies**\r\n\r\n> The Notebook tries to install these dependencies for you. If you\r\nstill experience any issues in installing any of the dependencies then please install\r\nfrom the following Installation links below.\r\n\r\n----------------------------------------------------------------\r\n<table>\r\n<colgroup>\r\n<col style=\"width: 27%\" />\r\n<col style=\"width: 24%\" />\r\n<col style=\"width: 24%\" />\r\n<col style=\"width: 24%\" />\r\n</colgroup>\r\n<thead>\r\n<tr class=\"header\">\r\n<th>Tool</th>\r\n<th>Required</th>\r\n<th>Description</th>\r\n<th>Installation</th>\r\n</tr>\r\n</thead>\r\n<tbody>\r\n<tr class=\"odd\">\r\n<td><strong>mssqlctl</strong></td>\r\n<td>Yes</td>\r\n<td>Command-line tool for installing and managing a big data cluster.</td>\r\n<td><a href=\"deploy-install-mssqlctl.md\">Install</a></td>\r\n</tr>\r\n<tr class=\"even\">\r\n<td><strong>kubectl</strong></td>\r\n<td>Yes</td>\r\n<td>Command-line tool for monitoring the underlying Kuberentes cluster (<a href=\"https://kubernetes.io/docs/tasks/tools/install-kubectl/\">More info</a>).</td>\r\n<td><a href=\"https://kubernetes.io/docs/tasks/tools/install-kubectl/#install-with-powershell-from-psgallery\">Windows</a> | <a href=\"https://kubernetes.io/docs/tasks/tools/install-kubectl/#install-kubectl-binary-using-native-package-management\">Linux</a></td>\r\n</tr>\r\n<tr class=\"odd\">\r\n<td><strong>Azure CLI</strong></td>\r\n<td>For AKS</td>\r\n<td>Modern command-line interface for managing Azure services. Used with AKS big data cluster deployments (<a href=\"https://docs.microsoft.com/cli/azure/?view=azure-cli-latest\">More info</a>).</td>\r\n<td><a href=\"https://docs.microsoft.com/cli/azure/install-azure-cli?view=azure-cli-latest\">Install</a></td>\r\n</tr>\r\n</tbody>\r\n</table>\r\n<p>",
            "metadata": {}
        },
        {
            "cell_type": "markdown",
            "source": "### **Big Data Cluster Settings**",
            "metadata": {}
        },
        {
            "cell_type": "code",
            "source": "import os, getpass, sys, json\r\nimport pandas as pd\r\nimport numpy as np\r\nfrom IPython.display import *\r\n\r\npd.set_option('display.max_colwidth', -1)\r\n\r\nprint('SQL Server Big Data Cluster Name is: ', mssql_cluster_name)\r\nif mssql_cluster_name == \"\":\r\n    raise SystemExit(f'Please provide a name of your Big Data Cluster!' + '\\n')\r\nprint('The Controller Username is: ',bdc_controller_username)\r\nif bdc_controller_username == \"\":\r\n    raise SystemExit(f'Controller Username is required!' + '\\n')\r\nbdc_controller_password = getpass.getpass(prompt='Controller Password: ')\r\nif bdc_controller_password == \"\":\r\n    raise SystemExit(f'Controller Password is required!' + '\\n')\r\nelse:\r\n    print('Controller Password is','***********')\r\nbdc_mssql_sa_password = getpass.getpass(prompt='MSSQL Password: ')\r\nif bdc_mssql_sa_password == \"\":\r\n    raise SystemExit(f'MSSQL Password is required!' + '\\n')\r\nelse:\r\n    print('MSSQL Password is','***********')",
            "metadata": {},
            "outputs": [],
            "execution_count": 0
        }
    ]
}