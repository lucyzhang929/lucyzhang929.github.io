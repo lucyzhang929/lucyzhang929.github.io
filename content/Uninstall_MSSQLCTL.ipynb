{
    "metadata": {
        "kernelspec": {
            "name": "python3",
            "display_name": "Python 3"
        },
        "language_info": {
            "name": "python",
            "version": "3.6.6",
            "mimetype": "text/x-python",
            "codemirror_mode": {
                "name": "ipython",
                "version": 3
            },
            "pygments_lexer": "ipython3",
            "nbconvert_exporter": "python",
            "file_extension": ".py"
        }
    },
    "nbformat_minor": 2,
    "nbformat": 4,
    "cells": [
        {
            "cell_type": "markdown",
            "source": "### Uninstall MSSQLCTL",
            "metadata": {}
        },
        {
            "cell_type": "code",
            "source": "import sys\r\n\r\nif not skip_mssqlctl_uninstall:\r\n    cmd = f'{sys.executable} -m pip uninstall -r {mssqlctl_url} --yes'\r\n    error_check()\r\n    cmd = f'{sys.executable} -m pip uninstall --yes mssqlctl-cli-storage'\r\n    error_check()\r\nelse:\r\n    print('SKIPPED: Uninstall MSSQLCTL')",
            "metadata": {},
            "outputs": [],
            "execution_count": 0
        }
    ]
}