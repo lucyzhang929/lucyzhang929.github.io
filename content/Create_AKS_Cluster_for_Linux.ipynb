{
    "metadata": {
        "kernelspec": {
            "name": "python3",
            "display_name": "Python 3"
        },
        "language_info": {
            "name": "python",
            "version": "3.6.6",
            "mimetype": "text/x-python",
            "codemirror_mode": {
                "name": "ipython",
                "version": 3
            },
            "pygments_lexer": "ipython3",
            "nbconvert_exporter": "python",
            "file_extension": ".py"
        }
    },
    "nbformat_minor": 2,
    "nbformat": 4,
    "cells": [
        {
            "cell_type": "markdown",
            "source": "### **Create AKS cluster for Linux**\r\n\r\nWe will create an AKS Cluster with the settings provided.",
            "metadata": {}
        },
        {
            "cell_type": "code",
            "source": "import json\r\n\r\nif not skip_aks_create:\r\n\r\n    # If specific version of kubernetes has been asked for, pass in the --kubernetes-version option\r\n    #\r\n    if aks_kubernetes_version != \"\":\r\n        kubernetes_version_option=\"--kubernetes-version {aks_kubernetes_version}\"\r\n    else:\r\n        kubernetes_version_option = \"\"\r\n    input = !az ad sp create-for-rbac --skip-assignment\r\n    input = ''.join(input)\r\n    results = json.loads(input)\r\n    appID = results['appId']\r\n    password = results['password']\r\n    cmd = f'az aks create --name {aks_cluster_name} --resource-group {azure_resource_group} --generate-ssh-keys --node-vm-size {azure_vm_size} --node-count {azure_vm_count} {kubernetes_version_option}' \r\n    #cmd = f'az aks create --name {aks_cluster_name} --resource-group {azure_resource_group} --service-principal {appID} --client-secret {password} --generate-ssh-keys --node-vm-size {azure_vm_size} --node-count {azure_vm_count} {kubernetes_version_option}' \r\n    error_check()\r\nelse:\r\n    print('SKIPPED: az aks create')",
            "metadata": {},
            "outputs": [],
            "execution_count": 0
        },
        {
            "cell_type": "markdown",
            "source": "### Show AKS cluster details",
            "metadata": {}
        },
        {
            "cell_type": "code",
            "source": "cmd = f'az aks show -g {azure_resource_group} -n {aks_cluster_name}'\r\nerror_check()",
            "metadata": {},
            "outputs": [],
            "execution_count": 0
        },
        {
            "cell_type": "markdown",
            "source": "### Get AKS credentials",
            "metadata": {}
        },
        {
            "cell_type": "code",
            "source": "cmd = f'az aks get-credentials --resource-group {azure_resource_group} --name {aks_cluster_name} --admin --overwrite-existing'\r\nerror_check()",
            "metadata": {},
            "outputs": [],
            "execution_count": 0
        },
        {
            "cell_type": "markdown",
            "source": "### Enable AKS monitoring",
            "metadata": {}
        },
        {
            "cell_type": "code",
            "source": "if not skip_aks_create:\r\n    if aks_enable_monitoring:\r\n        cmd = f'az aks enable-addons -a monitoring -n {aks_cluster_name} -g {azure_resource_group}'\r\n        error_check()\r\n    else:\r\n        print('SKIPPED: az aks enable-addons -a monitoring')",
            "metadata": {},
            "outputs": [],
            "execution_count": 0
        },
        {
            "cell_type": "markdown",
            "source": "### Show the Kubernetes Nodes",
            "metadata": {}
        },
        {
            "cell_type": "code",
            "source": "cmd = f'{kubectl_binary_location} get nodes'\r\nerror_check()",
            "metadata": {},
            "outputs": [],
            "execution_count": 0
        },
        {
            "cell_type": "markdown",
            "source": "### Show the Kubernetes Systems Pods\r\n\r\nShow the BDC pods. You can run to monitoring progress while waiting for\r\nthe ‘mssqlctl bdc create’ above to complete",
            "metadata": {}
        },
        {
            "cell_type": "code",
            "source": "cmd = f'{kubectl_binary_location} get pods --all-namespaces'\r\nerror_check()",
            "metadata": {},
            "outputs": [],
            "execution_count": 0
        },
        {
            "cell_type": "markdown",
            "source": "### List the MSSQLCTL configuration profiles",
            "metadata": {}
        },
        {
            "cell_type": "code",
            "source": "import os\r\n\r\nos.environ[\"ACCEPT_EULA\"] = 'yes'\r\n\r\n# List the configuration profiles available\r\n# mssqlctl_binary_location = mssqlctl\r\ncmd = f'mssqlctl bdc config list'\r\n!{cmd}\r\n\r\n#!mssqlctl bdc config list",
            "metadata": {},
            "outputs": [],
            "execution_count": 0
        },
        {
            "cell_type": "markdown",
            "source": "### Create a MSSQLCTL configuration file",
            "metadata": {}
        },
        {
            "cell_type": "code",
            "source": "import os\r\n# Create (init) a configuration file\r\n#\r\ncmd = f'mssqlctl bdc config init --source {mssqlctl_configuration_profile} --target {mssqlctl_configuration_file} --force'\r\nerror_check()\r\n\r\n# Set the 'big data cluster' name\r\n#\r\njsonPath = '\"metadata.name=''{0}''\"'.format(mssql_cluster_name)\r\ncmd = f'mssqlctl bdc config section set -c {mssqlctl_configuration_file} -j {jsonPath}'\r\nerror_check()\r\n# Set the docker registry\r\n#\r\njsonPath = '\"spec.controlPlane.spec.docker.registry=''{0}''\"'.format(docker_registry)\r\ncmd = f'mssqlctl bdc config section set -c {mssqlctl_configuration_file} -j {jsonPath}'\r\nerror_check()\r\n\r\n# Set the docker repository\r\n#\r\njsonPath = '\"spec.controlPlane.spec.docker.repository=''{0}''\"'.format(docker_repository)\r\ncmd = f'mssqlctl bdc config section set -c {mssqlctl_configuration_file} -j {jsonPath}'\r\nerror_check()",
            "metadata": {},
            "outputs": [],
            "execution_count": 0
        },
        {
            "cell_type": "markdown",
            "source": "### Delete a previously created SQL Server big data cluster",
            "metadata": {}
        },
        {
            "cell_type": "code",
            "source": "if include_bdc_delete:\r\n\r\n    os.environ[\"CONTROLLER_USERNAME\"] = bdc_controller_username\r\n    os.environ[\"CONTROLLER_PASSWORD\"] = bdc_controller_password\r\n\r\n    cmd = f'mssqlctl bdc delete -n {mssql_cluster_name} --force'\r\n    error_check()\r\nelse:\r\n    print('SKIPPING: mssqlctl bdc delete')",
            "metadata": {},
            "outputs": [],
            "execution_count": 0
        }
    ]
}